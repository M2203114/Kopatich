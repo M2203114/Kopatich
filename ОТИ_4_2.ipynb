{
  "nbformat": 4,
  "nbformat_minor": 0,
  "metadata": {
    "colab": {
      "provenance": [],
      "authorship_tag": "ABX9TyM0QPeLnI4yRTsSe2p1lqsj",
      "include_colab_link": true
    },
    "kernelspec": {
      "name": "python3",
      "display_name": "Python 3"
    },
    "language_info": {
      "name": "python"
    }
  },
  "cells": [
    {
      "cell_type": "markdown",
      "metadata": {
        "id": "view-in-github",
        "colab_type": "text"
      },
      "source": [
        "<a href=\"https://colab.research.google.com/github/M2203114/Kopatich/blob/4.2/%D0%9E%D0%A2%D0%98_4_2.ipynb\" target=\"_parent\"><img src=\"https://colab.research.google.com/assets/colab-badge.svg\" alt=\"Open In Colab\"/></a>"
      ]
    },
    {
      "cell_type": "code",
      "execution_count": 1,
      "metadata": {
        "colab": {
          "base_uri": "https://localhost:8080/"
        },
        "id": "_PwlhfeJZK35",
        "outputId": "e38fe92f-61f5-4ce4-c2b6-392b347b2224"
      },
      "outputs": [
        {
          "output_type": "stream",
          "name": "stdout",
          "text": [
            "Введите количество сообщений n\n",
            "16\n",
            "Введите вероятность искажения p\n",
            "0.5\n",
            "Максимально возможное количество информации, которое может пропустить канал связи в одном символе кода, если в канале действует помеха и вероятность искажения p:  1.0465547021957406\n",
            "\n",
            "Введите Pxj в формате 1/n, т.е. введите целочисленный n\n",
            "16\n",
            "Введите частоты\n",
            "0.125\n",
            "0.125\n",
            "0.125\n",
            "0.125\n",
            "0.125\n",
            "0.125\n",
            "0.125\n",
            "0.125\n",
            "0.125\n",
            "0.125\n",
            "0.125\n",
            "0.125\n",
            "0.125\n",
            "0.125\n",
            "0.125\n",
            "0.125\n",
            "Количество информации: 0.6947968812514684\n"
          ]
        }
      ],
      "source": [
        "import math as m\n",
        "\n",
        "def getMaxBandwidth(n,p):\n",
        "  C = m.log(n,2) + (1-p)*m.log((1-p),2) + p*m.log((p/(n-1)),2)\n",
        "  return C\n",
        "\n",
        "def getInfoVolume():\n",
        "  entr = {}\n",
        "  print(\"Введите Pxj в формате 1/n, т.е. введите целочисленный n\")\n",
        "  z = int(input())\n",
        "  pxj = 1/z\n",
        "  print(\"Введите частоты\")\n",
        "  for i in range(n):\n",
        "    p = float(input())\n",
        "    if p in entr:\n",
        "      entr[p] = entr[p] + 1\n",
        "    else:\n",
        "      entr[p] = 1\n",
        "\n",
        "  s = 0\n",
        "  for i in entr.keys():\n",
        "    for j in range(entr[i]):\n",
        "      s -= pxj * i * m.log(i, 2)\n",
        "  if pxj == 1/n:\n",
        "    s = (1-p)*m.log((1-p),2) - p*m.log((p/(n-1)),2)\n",
        "  return s\n",
        "\n",
        "\n",
        "\n",
        "print('Введите количество сообщений n')\n",
        "n = int(input())\n",
        "print('Введите вероятность искажения p')\n",
        "p = float(input())\n",
        "\n",
        "f = getMaxBandwidth(n,p)\n",
        "print(\"Максимально возможное количество информации, которое может пропустить канал связи в одном символе кода, если в канале действует помеха и вероятность искажения p: \",f)\n",
        "print()\n",
        "\n",
        "\n",
        "print(\"Количество информации:\",getInfoVolume())\n"
      ]
    }
  ]
}