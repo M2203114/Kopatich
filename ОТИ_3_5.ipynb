{
  "nbformat": 4,
  "nbformat_minor": 0,
  "metadata": {
    "colab": {
      "provenance": [],
      "authorship_tag": "ABX9TyOD20fpnR31NiSg2KdcKzhX",
      "include_colab_link": true
    },
    "kernelspec": {
      "name": "python3",
      "display_name": "Python 3"
    },
    "language_info": {
      "name": "python"
    }
  },
  "cells": [
    {
      "cell_type": "markdown",
      "metadata": {
        "id": "view-in-github",
        "colab_type": "text"
      },
      "source": [
        "<a href=\"https://colab.research.google.com/github/M2203114/Kopatich/blob/main/%D0%9E%D0%A2%D0%98_3_5.ipynb\" target=\"_parent\"><img src=\"https://colab.research.google.com/assets/colab-badge.svg\" alt=\"Open In Colab\"/></a>"
      ]
    },
    {
      "cell_type": "code",
      "execution_count": 1,
      "metadata": {
        "id": "brfXYspnWuKw",
        "outputId": "4b7d441c-e0a7-4991-9d2d-695a9406c014",
        "colab": {
          "base_uri": "https://localhost:8080/"
        }
      },
      "outputs": [
        {
          "output_type": "stream",
          "name": "stdout",
          "text": [
            "Энтропия сообщения: 2.0000 бит\n",
            "Минимально необходимая средняя длина кодовой комбинации: 2.0000 бит\n",
            "Избыточность используемого алфавита: 33.33%\n",
            "Фактически затрачивается: 15 бит\n",
            "При эффективном кодировании должно быть затрачено: 10.0000 бит\n"
          ]
        }
      ],
      "source": [
        "import math\n",
        "\n",
        "# Вероятности появления элементарных сообщений\n",
        "probabilities = [1/2, 1/8, 1/8, 1/8, 1/8]\n",
        "\n",
        "# Расчет энтропии сообщения\n",
        "def calculate_entropy(probabilities):\n",
        "    entropy = 0\n",
        "    for p in probabilities:\n",
        "        entropy -= p * math.log2(p)\n",
        "    return entropy\n",
        "\n",
        "# Расчет минимальной средней длины кодовой комбинации\n",
        "def calculate_min_avg_length(entropy, m):\n",
        "    return entropy / math.log2(m)\n",
        "\n",
        "# Фактическая длина кодовой комбинации\n",
        "actual_length = 3\n",
        "\n",
        "# Расчет энтропии\n",
        "entropy = calculate_entropy(probabilities)\n",
        "print(f\"Энтропия сообщения: {entropy:.4f} бит\")\n",
        "\n",
        "# Расчет минимальной средней длины кодовой комбинации\n",
        "m = 2  # Алфавит A = (0, 1)\n",
        "min_avg_length = calculate_min_avg_length(entropy, m)\n",
        "print(f\"Минимально необходимая средняя длина кодовой комбинации: {min_avg_length:.4f} бит\")\n",
        "\n",
        "# Расчет избыточности\n",
        "redundancy = (actual_length - min_avg_length) / actual_length * 100\n",
        "print(f\"Избыточность используемого алфавита: {redundancy:.2f}%\")\n",
        "\n",
        "# Сравнение с фактической длиной\n",
        "total_actual_length = 5 * actual_length\n",
        "print(f\"Фактически затрачивается: {total_actual_length} бит\")\n",
        "print(f\"При эффективном кодировании должно быть затрачено: {5 * min_avg_length:.4f} бит\")\n"
      ]
    }
  ]
}