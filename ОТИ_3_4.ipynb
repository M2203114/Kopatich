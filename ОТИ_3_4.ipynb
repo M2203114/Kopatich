{
  "nbformat": 4,
  "nbformat_minor": 0,
  "metadata": {
    "colab": {
      "provenance": [],
      "authorship_tag": "ABX9TyMziAo/xzpNeHGTYp/gAd2v",
      "include_colab_link": true
    },
    "kernelspec": {
      "name": "python3",
      "display_name": "Python 3"
    },
    "language_info": {
      "name": "python"
    }
  },
  "cells": [
    {
      "cell_type": "markdown",
      "metadata": {
        "id": "view-in-github",
        "colab_type": "text"
      },
      "source": [
        "<a href=\"https://colab.research.google.com/github/M2203114/Kopatich/blob/3.4/%D0%9E%D0%A2%D0%98_3_4.ipynb\" target=\"_parent\"><img src=\"https://colab.research.google.com/assets/colab-badge.svg\" alt=\"Open In Colab\"/></a>"
      ]
    },
    {
      "cell_type": "code",
      "execution_count": null,
      "metadata": {
        "id": "n-oyCYX9tp-i"
      },
      "outputs": [],
      "source": [
        "import math\n",
        "\n",
        "# Вероятности появления элементарных сообщений\n",
        "probabilities = [0.125, 0.125, 0.125, 0.125, 0.125, 0.125, 0.125, 0.125]\n",
        "\n",
        "# Длины кодовых слов (все они равны 3, так как каждое сообщение кодируется тремя символами)\n",
        "lengths = [3] * len(probabilities)\n",
        "\n",
        "# Вычисление энтропии\n",
        "entropy = -sum(p * math.log2(p) for p in probabilities if p > 0)\n",
        "\n",
        "# Вычисление средней длины кодового слова\n",
        "average_length = sum(p * l for p, l in zip(probabilities, lengths))\n",
        "\n",
        "# Вычисление эффективности кода\n",
        "efficiency = entropy / average_length\n",
        "\n",
        "print(f\"Энтропия источника: {entropy} бит\")\n",
        "print(f\"Средняя длина кодового слова: {average_length:} буквы\")\n",
        "print(f\"Эффективность кода: {efficiency}\")\n",
        "print(f\"Длина нашего сообщения: {len(probabilities)*average_length:} букав\")"
      ]
    },
    {
      "cell_type": "code",
      "source": [
        "from math import log\n",
        "\n",
        "# Вычисление длины кодовой комбинации\n",
        "def CodeCombination(length, amount):\n",
        "    return length * amount\n",
        "\n",
        "# Вычисление средней длины кодовой комбинации\n",
        "def FindAverageLength(entropy, countSigns):\n",
        "    return entropy / log(countSigns, 2)\n",
        "\n",
        "# Нахождение избыточности кода\n",
        "def RedundancyOfCode(entropy, length, countSigns):\n",
        "    ncp = FindAverageLength(entropy, countSigns)\n",
        "    return round((length - ncp) / length * 100, 3)\n",
        "\n",
        "# Функция для поиска энтропии сообщения\n",
        "def EntropyMessage(probabilityArray):\n",
        "    result = 0\n",
        "    for i in range(0, len(probabilityArray)):\n",
        "        result += probabilityArray[i] * log(probabilityArray[i], 2)\n",
        "    if result != 0:\n",
        "        result *= -1\n",
        "    print('Entropy: ', result)\n",
        "    return result\n",
        "\n",
        "# Ввод и валидация данных\n",
        "def Validation():\n",
        "    while True:\n",
        "        try:\n",
        "            data = int(input('Введите целое число более 0: '))\n",
        "            if data > 0:\n",
        "                return data\n",
        "            print('Введенное значение не больше 0')\n",
        "        except:\n",
        "            print('Вы ввели не число')\n",
        "            print('Попробуйте еще раз')\n",
        "\n",
        "# Ввод списка дробей\n",
        "def InputProbability():\n",
        "    print('Введите количество сообщений')\n",
        "    count = Validation()\n",
        "    probabilityArray = []\n",
        "    while True:\n",
        "        i = 0\n",
        "        while i < count:\n",
        "            prob = input('Введите вероятность появления сообщения в формате \"1/2\": ')\n",
        "            try:\n",
        "                first = int(prob.split('/')[0])\n",
        "                second = int(prob.split('/')[1])\n",
        "                probabilityArray.append(first / second)\n",
        "                i += 1\n",
        "            except:\n",
        "                print('Данные введены не верно! Попробуйте еще раз.')\n",
        "        if sum(probabilityArray) == 1:\n",
        "            return probabilityArray\n",
        "        print('Помните. Сумма вероятностей должна быть равна 1!')\n",
        "\n",
        "def Main():\n",
        "    countOfSignForEncoding = 2\n",
        "    print('Вычисление качества используемого кода')\n",
        "    array = InputProbability()\n",
        "    print('Введите длину записи закодированного сообщения')\n",
        "    length = Validation()\n",
        "    entropy = EntropyMessage(array)\n",
        "    npc = FindAverageLength(entropy, countOfSignForEncoding)\n",
        "    print(f\"Средняя длина кодового слова: {npc:} буквы\")\n",
        "    print('Избыточность используемого кода: ', RedundancyOfCode(entropy, length, countOfSignForEncoding), '%')\n",
        "    print('Минимально необходимая длина кодовой комбинации равна: ', CodeCombination(npc, len(array)))\n",
        "    print('Длина кодовой комбинации при заданной длине равна: ', CodeCombination(length, len(array)))\n",
        "    input(\"Нажмите Enter для завершения\")\n",
        "\n",
        "if __name__ == '__main__':\n",
        "    Main()"
      ],
      "metadata": {
        "id": "FB4PZek508CU",
        "colab": {
          "base_uri": "https://localhost:8080/"
        },
        "outputId": "e27565a2-b52e-48e5-f37f-9421816cfac9"
      },
      "execution_count": 2,
      "outputs": [
        {
          "name": "stdout",
          "output_type": "stream",
          "text": [
            "Вычисление качества используемого кода\n",
            "Введите количество сообщений\n",
            "Введите целое число более 0: 8\n",
            "Введите вероятность появления сообщения в формате \"1/2\": 1/8\n",
            "Введите вероятность появления сообщения в формате \"1/2\": 1/8\n",
            "Введите вероятность появления сообщения в формате \"1/2\": 1/8\n",
            "Введите вероятность появления сообщения в формате \"1/2\": 1/8\n",
            "Введите вероятность появления сообщения в формате \"1/2\": 1/8\n",
            "Введите вероятность появления сообщения в формате \"1/2\": 1/8\n",
            "Введите вероятность появления сообщения в формате \"1/2\": 1/8\n",
            "Введите вероятность появления сообщения в формате \"1/2\": 1/8\n",
            "Введите длину записи закодированного сообщения\n",
            "Введите целое число более 0: 3\n",
            "Entropy:  3.0\n",
            "Средняя длина кодового слова: 3.0 буквы\n",
            "Избыточность используемого кода:  0.0 %\n",
            "Минимально необходимая длина кодовой комбинации равна:  24.0\n",
            "Длина кодовой комбинации при заданной длине равна:  24\n",
            "Нажмите Enter для завершения\n"
          ]
        }
      ]
    }
  ]
}