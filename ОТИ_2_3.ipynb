{
  "nbformat": 4,
  "nbformat_minor": 0,
  "metadata": {
    "colab": {
      "provenance": [],
      "authorship_tag": "ABX9TyPe0Bh9lTxWYRQA/lzWmsFQ",
      "include_colab_link": true
    },
    "kernelspec": {
      "name": "python3",
      "display_name": "Python 3"
    },
    "language_info": {
      "name": "python"
    }
  },
  "cells": [
    {
      "cell_type": "markdown",
      "metadata": {
        "id": "view-in-github",
        "colab_type": "text"
      },
      "source": [
        "<a href=\"https://colab.research.google.com/github/M2203114/Kopatich/blob/2.3/%D0%9E%D0%A2%D0%98_2_3.ipynb\" target=\"_parent\"><img src=\"https://colab.research.google.com/assets/colab-badge.svg\" alt=\"Open In Colab\"/></a>"
      ]
    },
    {
      "cell_type": "code",
      "execution_count": 3,
      "metadata": {
        "colab": {
          "base_uri": "https://localhost:8080/"
        },
        "id": "ipt5sfGpccYt",
        "outputId": "b2925c95-ae78-46fd-ea24-e26d55959446"
      },
      "outputs": [
        {
          "name": "stdout",
          "output_type": "stream",
          "text": [
            "Поиск энтропии сообщения и энтропии источника\n",
            "Введите количество различных возможных сообщений\n",
            "Введите целое число более 0: 16\n",
            "Введите количество различных символов в кодировке\n",
            "Введите целое число более 0: 2\n",
            "Энтропия сообщения 4.0\n",
            "Энтропия источника 1.0\n",
            "Нажмите Enter для завершения\n"
          ]
        }
      ],
      "source": [
        "from math import log\n",
        "\n",
        "# Функция для поиска энтропии сообщения\n",
        "def EntropyMessage(countMessages):\n",
        "    p = 1 / countMessages\n",
        "    result = 0\n",
        "    for i in range(0, countMessages):\n",
        "        result += p * log(p, 2)\n",
        "    result *= -1\n",
        "    return result\n",
        "\n",
        "# Функция для поиска энтропии источника\n",
        "def EntropyOrigin(countSigns):\n",
        "    p = 1 / countSigns\n",
        "    result = 0\n",
        "    for i in range(0, countSigns):\n",
        "        result += p * log(p, 2)\n",
        "    result *= -1\n",
        "    return result\n",
        "\n",
        "# Ввод и валидация данных\n",
        "def Validation():\n",
        "    while True:\n",
        "        try:\n",
        "            data = int(input('Введите целое число более 0: '))\n",
        "            if data > 0:\n",
        "                return data\n",
        "            print('Введенное значение не больше 0')\n",
        "        except:\n",
        "            print('Вы ввели не число')\n",
        "        print('Попробуйте еще раз')\n",
        "\n",
        "def Main():\n",
        "    print('Поиск энтропии сообщения и энтропии источника')\n",
        "\n",
        "    # Проверка ввода для количества различных сообщений\n",
        "    print('Введите количество различных возможных сообщений')\n",
        "    countMessages = Validation()\n",
        "\n",
        "    print('Введите количество различных символов в кодировке')\n",
        "    countSigns = Validation()\n",
        "\n",
        "    print('Энтропия сообщения', EntropyMessage(countMessages))\n",
        "    print('Энтропия источника', EntropyOrigin(countSigns))\n",
        "\n",
        "    wait = input(\"Нажмите Enter для завершения\")\n",
        "\n",
        "if __name__ == '__main__':\n",
        "    Main()"
      ]
    }
  ]
}